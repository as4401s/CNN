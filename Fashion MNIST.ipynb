{
 "cells": [
  {
   "cell_type": "code",
   "execution_count": 1,
   "metadata": {},
   "outputs": [],
   "source": [
    "import tensorflow as tf"
   ]
  },
  {
   "cell_type": "code",
   "execution_count": 3,
   "metadata": {},
   "outputs": [],
   "source": [
    "import numpy as np\n",
    "import matplotlib.pyplot as plt\n",
    "\n",
    "from tensorflow.keras.layers import Input,Conv2D,Flatten,Dense,Dropout\n",
    "from tensorflow.keras.models import Model"
   ]
  },
  {
   "cell_type": "code",
   "execution_count": 4,
   "metadata": {},
   "outputs": [],
   "source": [
    "# load data\n",
    "\n",
    "fashion_mnist= tf.keras.datasets.fashion_mnist"
   ]
  },
  {
   "cell_type": "code",
   "execution_count": 6,
   "metadata": {},
   "outputs": [
    {
     "name": "stdout",
     "output_type": "stream",
     "text": [
      "Downloading data from https://storage.googleapis.com/tensorflow/tf-keras-datasets/train-labels-idx1-ubyte.gz\n",
      "32768/29515 [=================================] - 0s 1us/step\n",
      "Downloading data from https://storage.googleapis.com/tensorflow/tf-keras-datasets/train-images-idx3-ubyte.gz\n",
      "26427392/26421880 [==============================] - 14s 1us/step\n",
      "Downloading data from https://storage.googleapis.com/tensorflow/tf-keras-datasets/t10k-labels-idx1-ubyte.gz\n",
      "8192/5148 [===============================================] - 0s 0us/step\n",
      "Downloading data from https://storage.googleapis.com/tensorflow/tf-keras-datasets/t10k-images-idx3-ubyte.gz\n",
      "4423680/4422102 [==============================] - 3s 1us/step\n"
     ]
    }
   ],
   "source": [
    "(x_train,y_train),(x_test,y_test)=fashion_mnist.load_data()\n",
    "\n",
    "x_train,x_test=x_train/255.0, x_test/255.0"
   ]
  },
  {
   "cell_type": "code",
   "execution_count": 7,
   "metadata": {},
   "outputs": [
    {
     "data": {
      "text/plain": [
       "(60000, 28, 28)"
      ]
     },
     "execution_count": 7,
     "metadata": {},
     "output_type": "execute_result"
    }
   ],
   "source": [
    "x_train.shape"
   ]
  },
  {
   "cell_type": "code",
   "execution_count": 8,
   "metadata": {},
   "outputs": [
    {
     "data": {
      "text/plain": [
       "(60000,)"
      ]
     },
     "execution_count": 8,
     "metadata": {},
     "output_type": "execute_result"
    }
   ],
   "source": [
    "y_train.shape"
   ]
  },
  {
   "cell_type": "code",
   "execution_count": 9,
   "metadata": {},
   "outputs": [
    {
     "data": {
      "text/plain": [
       "(10000, 28, 28)"
      ]
     },
     "execution_count": 9,
     "metadata": {},
     "output_type": "execute_result"
    }
   ],
   "source": [
    "x_test.shape"
   ]
  },
  {
   "cell_type": "code",
   "execution_count": 10,
   "metadata": {},
   "outputs": [
    {
     "data": {
      "text/plain": [
       "(10000,)"
      ]
     },
     "execution_count": 10,
     "metadata": {},
     "output_type": "execute_result"
    }
   ],
   "source": [
    "y_test.shape"
   ]
  },
  {
   "cell_type": "code",
   "execution_count": 11,
   "metadata": {},
   "outputs": [],
   "source": [
    "#data is only 2d\n",
    "#conv expects height x weight x color\n",
    "\n",
    "x_train=np.expand_dims(x_train,-1)\n",
    "x_test=np.expand_dims(x_test, -1)"
   ]
  },
  {
   "cell_type": "code",
   "execution_count": 12,
   "metadata": {},
   "outputs": [
    {
     "data": {
      "text/plain": [
       "(60000, 28, 28, 1)"
      ]
     },
     "execution_count": 12,
     "metadata": {},
     "output_type": "execute_result"
    }
   ],
   "source": [
    "x_train.shape"
   ]
  },
  {
   "cell_type": "code",
   "execution_count": 15,
   "metadata": {},
   "outputs": [],
   "source": [
    "#finding number of classes\n",
    "#set finds the unique number of classes\n",
    "\n",
    "K= len(set(y_train))"
   ]
  },
  {
   "cell_type": "code",
   "execution_count": 16,
   "metadata": {},
   "outputs": [
    {
     "data": {
      "text/plain": [
       "10"
      ]
     },
     "execution_count": 16,
     "metadata": {},
     "output_type": "execute_result"
    }
   ],
   "source": [
    "K"
   ]
  },
  {
   "cell_type": "code",
   "execution_count": 17,
   "metadata": {},
   "outputs": [],
   "source": [
    "# build model\n",
    "\n",
    "i= Input(shape=x_train[0].shape)\n",
    "x= Conv2D(32, (3,3), strides=1, activation='relu', padding='same')(i)\n",
    "x= Conv2D(64, (3,3), strides=2, activation='relu')(x)\n",
    "x= Conv2D(128, (3,3), strides=2, activation='relu')(x)\n",
    "x= Flatten()(x)\n",
    "x= Dropout(0.2)(x)\n",
    "x= Dense(512, activation='relu')(x)\n",
    "x= Dropout(0.2)(x)\n",
    "x= Dense(K, activation='softmax')(x)\n",
    "\n",
    "model=Model(i,x)"
   ]
  },
  {
   "cell_type": "code",
   "execution_count": 18,
   "metadata": {},
   "outputs": [],
   "source": [
    "model.compile(optimizer='adam', loss='sparse_categorical_crossentropy', metrics=['accuracy'])"
   ]
  },
  {
   "cell_type": "code",
   "execution_count": 19,
   "metadata": {},
   "outputs": [
    {
     "name": "stdout",
     "output_type": "stream",
     "text": [
      "Train on 60000 samples, validate on 10000 samples\n",
      "Epoch 1/15\n",
      "60000/60000 [==============================] - 150s 2ms/sample - loss: 0.3949 - accuracy: 0.8564 - val_loss: 0.2957 - val_accuracy: 0.8905\n",
      "Epoch 2/15\n",
      "60000/60000 [==============================] - 146s 2ms/sample - loss: 0.2578 - accuracy: 0.9056 - val_loss: 0.2535 - val_accuracy: 0.9082\n",
      "Epoch 3/15\n",
      "60000/60000 [==============================] - 146s 2ms/sample - loss: 0.2073 - accuracy: 0.9222 - val_loss: 0.2457 - val_accuracy: 0.9125\n",
      "Epoch 4/15\n",
      "60000/60000 [==============================] - 146s 2ms/sample - loss: 0.1731 - accuracy: 0.9351 - val_loss: 0.2384 - val_accuracy: 0.9150\n",
      "Epoch 5/15\n",
      "60000/60000 [==============================] - 146s 2ms/sample - loss: 0.1418 - accuracy: 0.9464 - val_loss: 0.2284 - val_accuracy: 0.9213\n",
      "Epoch 6/15\n",
      "60000/60000 [==============================] - 145s 2ms/sample - loss: 0.1163 - accuracy: 0.9567 - val_loss: 0.2512 - val_accuracy: 0.9133\n",
      "Epoch 7/15\n",
      "60000/60000 [==============================] - 145s 2ms/sample - loss: 0.0971 - accuracy: 0.9637 - val_loss: 0.2542 - val_accuracy: 0.9209\n",
      "Epoch 8/15\n",
      "60000/60000 [==============================] - 146s 2ms/sample - loss: 0.0819 - accuracy: 0.9701 - val_loss: 0.2776 - val_accuracy: 0.9221\n",
      "Epoch 9/15\n",
      "60000/60000 [==============================] - 146s 2ms/sample - loss: 0.0701 - accuracy: 0.9740 - val_loss: 0.3062 - val_accuracy: 0.9202\n",
      "Epoch 10/15\n",
      "60000/60000 [==============================] - 145s 2ms/sample - loss: 0.0639 - accuracy: 0.9760 - val_loss: 0.3367 - val_accuracy: 0.9204\n",
      "Epoch 11/15\n",
      "60000/60000 [==============================] - 145s 2ms/sample - loss: 0.0562 - accuracy: 0.9796 - val_loss: 0.3454 - val_accuracy: 0.9226\n",
      "Epoch 12/15\n",
      "60000/60000 [==============================] - 145s 2ms/sample - loss: 0.0504 - accuracy: 0.9811 - val_loss: 0.3472 - val_accuracy: 0.9220\n",
      "Epoch 13/15\n",
      "60000/60000 [==============================] - 145s 2ms/sample - loss: 0.0481 - accuracy: 0.9828 - val_loss: 0.3638 - val_accuracy: 0.9238\n",
      "Epoch 14/15\n",
      "60000/60000 [==============================] - 146s 2ms/sample - loss: 0.0415 - accuracy: 0.9849 - val_loss: 0.3922 - val_accuracy: 0.9218\n",
      "Epoch 15/15\n",
      "60000/60000 [==============================] - 145s 2ms/sample - loss: 0.0401 - accuracy: 0.9860 - val_loss: 0.4173 - val_accuracy: 0.9254\n"
     ]
    }
   ],
   "source": [
    "r= model.fit(x_train,y_train, validation_data=(x_test,y_test), epochs=15)"
   ]
  },
  {
   "cell_type": "code",
   "execution_count": 21,
   "metadata": {},
   "outputs": [
    {
     "data": {
      "text/plain": [
       "<matplotlib.legend.Legend at 0x23193d14288>"
      ]
     },
     "execution_count": 21,
     "metadata": {},
     "output_type": "execute_result"
    },
    {
     "data": {
      "image/png": "[encoded data removed]",
      "text/plain": [
       "<Figure size 432x288 with 1 Axes>"
      ]
     },
     "metadata": {
      "needs_background": "light"
     },
     "output_type": "display_data"
    }
   ],
   "source": [
    "plt.plot(r.history['loss'],label='loss')\n",
    "plt.plot(r.history['val_loss'],label='val_loss')\n",
    "plt.legend()"
   ]
  },
  {
   "cell_type": "code",
   "execution_count": 22,
   "metadata": {},
   "outputs": [
    {
     "data": {
      "text/plain": [
       "<matplotlib.legend.Legend at 0x2319c1f2648>"
      ]
     },
     "execution_count": 22,
     "metadata": {},
     "output_type": "execute_result"
    },
    {
     "data": {
      "image/png": "[encoded data removed]",
      "text/plain": [
       "<Figure size 432x288 with 1 Axes>"
      ]
     },
     "metadata": {
      "needs_background": "light"
     },
     "output_type": "display_data"
    }
   ],
   "source": [
    "plt.plot(r.history['accuracy'],label='accuracy')\n",
    "plt.plot(r.history['val_accuracy'],label='val_accuracy')\n",
    "plt.legend()"
   ]
  },
  {
   "cell_type": "code",
   "execution_count": 23,
   "metadata": {},
   "outputs": [],
   "source": [
    "from sklearn.metrics import confusion_matrix"
   ]
  },
  {
   "cell_type": "code",
   "execution_count": 25,
   "metadata": {},
   "outputs": [],
   "source": [
    "from mlxtend.plotting import plot_confusion_matrix"
   ]
  },
  {
   "cell_type": "code",
   "execution_count": 31,
   "metadata": {},
   "outputs": [],
   "source": [
    "P= model.predict(x_test).argmax(axis=1)"
   ]
  },
  {
   "cell_type": "code",
   "execution_count": 32,
   "metadata": {},
   "outputs": [
    {
     "data": {
      "text/plain": [
       "array([9, 2, 1, ..., 8, 1, 5], dtype=int64)"
      ]
     },
     "execution_count": 32,
     "metadata": {},
     "output_type": "execute_result"
    }
   ],
   "source": [
    "P"
   ]
  },
  {
   "cell_type": "code",
   "execution_count": 33,
   "metadata": {},
   "outputs": [],
   "source": [
    "matrix = confusion_matrix (y_test, P)"
   ]
  },
  {
   "cell_type": "code",
   "execution_count": 34,
   "metadata": {},
   "outputs": [
    {
     "data": {
      "text/plain": [
       "(<Figure size 720x720 with 1 Axes>,\n",
       " <matplotlib.axes._subplots.AxesSubplot at 0x231db104248>)"
      ]
     },
     "execution_count": 34,
     "metadata": {},
     "output_type": "execute_result"
    },
    {
     "data": {
      "image/png": "[encoded data removed]",
      "text/plain": [
       "<Figure size 720x720 with 1 Axes>"
      ]
     },
     "metadata": {
      "needs_background": "light"
     },
     "output_type": "display_data"
    }
   ],
   "source": [
    "plot_confusion_matrix(matrix, figsize=(10,10))"
   ]
  },
  {
   "cell_type": "code",
   "execution_count": 36,
   "metadata": {},
   "outputs": [
    {
     "data": {
      "image/png": "[encoded data removed]",
      "text/plain": [
       "<Figure size 432x288 with 1 Axes>"
      ]
     },
     "metadata": {
      "needs_background": "light"
     },
     "output_type": "display_data"
    }
   ],
   "source": [
    "# show some misclassified examples\n",
    "# numpy where function return the index of values\n",
    "\n",
    "misclassified = np.where(P != y_test)[0]\n",
    "i = np.random.choice(misclassified)\n",
    "plt.imshow(x_test[i].reshape(28,28), cmap = 'gray')\n",
    "plt.title('true label: %s predicted %s' %(y_test[i], P[i]));\n",
    "\n",
    "#Python supports formatting values into strings. Although this can include very complicated expressions,\n",
    "#the most basic usage is to insert values into a string with the %s placeholder.\n",
    "#The %s token allows me to insert (and potentially format) a string. \n",
    "#Notice that the %s token is replaced by whatever I pass to the string after the % symbol"
   ]
  },
  {
   "cell_type": "code",
   "execution_count": null,
   "metadata": {},
   "outputs": [],
   "source": []
  }
 ],
 "metadata": {
  "kernelspec": {
   "display_name": "Python 3",
   "language": "python",
   "name": "python3"
  },
  "language_info": {
   "codemirror_mode": {
    "name": "ipython",
    "version": 3
   },
   "file_extension": ".py",
   "mimetype": "text/x-python",
   "name": "python",
   "nbconvert_exporter": "python",
   "pygments_lexer": "ipython3",
   "version": "3.7.3"
  }
 },
 "nbformat": 4,
 "nbformat_minor": 2
}
