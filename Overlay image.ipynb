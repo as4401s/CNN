{
 "cells": [
  {
   "cell_type": "code",
   "execution_count": 1,
   "metadata": {},
   "outputs": [],
   "source": [
    "import cv2 \n",
    "import numpy as np\n",
    "from PIL import Image, ImageEnhance \n",
    "import matplotlib.pyplot as plt\n",
    "\n",
    "alpha = 1.2\n",
    "beta = -30\n",
    "\n",
    "background = cv2.imread('1.PNG')\n",
    "background = cv2.resize(background,(500,500))\n",
    "\n",
    "overlay = cv2.imread('2.PNG')\n",
    "overlay = cv2.resize(overlay,(500,500))\n",
    "\n",
    "image = cv2.addWeighted(background,0.5,overlay,0.5,0)\n",
    "\n",
    "new_image = np.zeros(image.shape, image.dtype)\n",
    "\n",
    "for y in range(image.shape[0]):\n",
    "    for x in range(image.shape[1]):\n",
    "            new_image[y,x] = np.clip(alpha*image[y,x] + beta, 0, 255)\n",
    "\n",
    "cv2.imwrite('combined.png', new_image)\n",
    "\n",
    "im = Image.open(\"combined.png\")\n",
    "enhancer = ImageEnhance.Sharpness(im)\n",
    "enhanced_im = enhancer.enhance(2.0)\n",
    "enhanced_im.save(\"enhanced_sample.png\")"
   ]
  }
 ],
 "metadata": {
  "kernelspec": {
   "display_name": "Python 3",
   "language": "python",
   "name": "python3"
  },
  "language_info": {
   "codemirror_mode": {
    "name": "ipython",
    "version": 3
   },
   "file_extension": ".py",
   "mimetype": "text/x-python",
   "name": "python",
   "nbconvert_exporter": "python",
   "pygments_lexer": "ipython3",
   "version": "3.7.7"
  }
 },
 "nbformat": 4,
 "nbformat_minor": 4
}
